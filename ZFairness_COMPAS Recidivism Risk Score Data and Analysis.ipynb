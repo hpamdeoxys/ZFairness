{
  "nbformat": 4,
  "nbformat_minor": 0,
  "metadata": {
    "colab": {
      "provenance": [],
      "authorship_tag": "ABX9TyOQ8Xvqw/1pu4w1a6WlAwQ9",
      "include_colab_link": true
    },
    "kernelspec": {
      "name": "python3",
      "display_name": "Python 3"
    },
    "language_info": {
      "name": "python"
    }
  },
  "cells": [
    {
      "cell_type": "markdown",
      "metadata": {
        "id": "view-in-github",
        "colab_type": "text"
      },
      "source": [
        "<a href=\"https://colab.research.google.com/github/hpamdeoxys/ZFairness/blob/main/ZFairness_Final.ipynb\" target=\"_parent\"><img src=\"https://colab.research.google.com/assets/colab-badge.svg\" alt=\"Open In Colab\"/></a>"
      ]
    },
    {
      "cell_type": "code",
      "execution_count": 4,
      "metadata": {
        "colab": {
          "base_uri": "https://localhost:8080/",
          "height": 0
        },
        "id": "aXlVB0UQODsR",
        "outputId": "1528ac97-d9f5-4139-82ad-28bd6bbeab0a"
      },
      "outputs": [
        {
          "output_type": "stream",
          "name": "stderr",
          "text": [
            "WARNING:root:No module named 'fairlearn': ExponentiatedGradientReduction will be unavailable. To install, run:\n",
            "pip install 'aif360[Reductions]'\n",
            "WARNING:root:No module named 'fairlearn': GridSearchReduction will be unavailable. To install, run:\n",
            "pip install 'aif360[Reductions]'\n",
            "WARNING:root:No module named 'inFairness': SenSeI and SenSR will be unavailable. To install, run:\n",
            "pip install 'aif360[inFairness]'\n",
            "WARNING:root:No module named 'fairlearn': GridSearchReduction will be unavailable. To install, run:\n",
            "pip install 'aif360[Reductions]'\n"
          ]
        }
      ],
      "source": [
        "import pandas as pd\n",
        "from sklearn.model_selection import train_test_split\n",
        "from sklearn.feature_extraction.text import TfidfVectorizer\n",
        "from sklearn.linear_model import LogisticRegression\n",
        "from sklearn.metrics import confusion_matrix, classification_report, accuracy_score\n",
        "from sklearn.preprocessing import StandardScaler\n",
        "from aif360.datasets import BinaryLabelDataset\n",
        "from aif360.metrics import ClassificationMetric\n",
        "import numpy as np"
      ]
    },
    {
      "cell_type": "code",
      "source": [
        "!pip install aif360"
      ],
      "metadata": {
        "colab": {
          "base_uri": "https://localhost:8080/",
          "height": 0
        },
        "id": "ppg4cYMXR8-2",
        "outputId": "5f5b76fa-d797-4ca2-9523-8a5cb2c7bf23"
      },
      "execution_count": 3,
      "outputs": [
        {
          "output_type": "stream",
          "name": "stdout",
          "text": [
            "Collecting aif360\n",
            "  Downloading aif360-0.6.0-py3-none-any.whl (229 kB)\n",
            "\u001b[2K     \u001b[90m━━━━━━━━━━━━━━━━━━━━━━━━━━━━━━━━━━━━━━━━\u001b[0m \u001b[32m229.8/229.8 kB\u001b[0m \u001b[31m2.0 MB/s\u001b[0m eta \u001b[36m0:00:00\u001b[0m\n",
            "\u001b[?25hRequirement already satisfied: numpy>=1.16 in /usr/local/lib/python3.10/dist-packages (from aif360) (1.25.2)\n",
            "Requirement already satisfied: scipy>=1.2.0 in /usr/local/lib/python3.10/dist-packages (from aif360) (1.11.4)\n",
            "Requirement already satisfied: pandas>=0.24.0 in /usr/local/lib/python3.10/dist-packages (from aif360) (1.5.3)\n",
            "Requirement already satisfied: scikit-learn>=1.0 in /usr/local/lib/python3.10/dist-packages (from aif360) (1.2.2)\n",
            "Requirement already satisfied: matplotlib in /usr/local/lib/python3.10/dist-packages (from aif360) (3.7.1)\n",
            "Requirement already satisfied: python-dateutil>=2.8.1 in /usr/local/lib/python3.10/dist-packages (from pandas>=0.24.0->aif360) (2.8.2)\n",
            "Requirement already satisfied: pytz>=2020.1 in /usr/local/lib/python3.10/dist-packages (from pandas>=0.24.0->aif360) (2023.4)\n",
            "Requirement already satisfied: joblib>=1.1.1 in /usr/local/lib/python3.10/dist-packages (from scikit-learn>=1.0->aif360) (1.3.2)\n",
            "Requirement already satisfied: threadpoolctl>=2.0.0 in /usr/local/lib/python3.10/dist-packages (from scikit-learn>=1.0->aif360) (3.4.0)\n",
            "Requirement already satisfied: contourpy>=1.0.1 in /usr/local/lib/python3.10/dist-packages (from matplotlib->aif360) (1.2.0)\n",
            "Requirement already satisfied: cycler>=0.10 in /usr/local/lib/python3.10/dist-packages (from matplotlib->aif360) (0.12.1)\n",
            "Requirement already satisfied: fonttools>=4.22.0 in /usr/local/lib/python3.10/dist-packages (from matplotlib->aif360) (4.50.0)\n",
            "Requirement already satisfied: kiwisolver>=1.0.1 in /usr/local/lib/python3.10/dist-packages (from matplotlib->aif360) (1.4.5)\n",
            "Requirement already satisfied: packaging>=20.0 in /usr/local/lib/python3.10/dist-packages (from matplotlib->aif360) (24.0)\n",
            "Requirement already satisfied: pillow>=6.2.0 in /usr/local/lib/python3.10/dist-packages (from matplotlib->aif360) (9.4.0)\n",
            "Requirement already satisfied: pyparsing>=2.3.1 in /usr/local/lib/python3.10/dist-packages (from matplotlib->aif360) (3.1.2)\n",
            "Requirement already satisfied: six>=1.5 in /usr/local/lib/python3.10/dist-packages (from python-dateutil>=2.8.1->pandas>=0.24.0->aif360) (1.16.0)\n",
            "Installing collected packages: aif360\n",
            "Successfully installed aif360-0.6.0\n"
          ]
        }
      ]
    },
    {
      "cell_type": "markdown",
      "source": [
        "#(1) Selection of Data:\n",
        "##The dataset chosen for this project is the \"COMPAS Recidivism Risk Score Data and Analysis\" which can be accessed through the ProPublica COMPAS Analysis repository. Originally intended for analyzing the fairness of recidivism prediction, it contains variables such as criminal history, jail and prison time, demographics, and COMPAS risk scores designed to predict the likelihood of a defendant becoming a recidivist. Our objective diverges from the initial risk assessment analysis to apply sentiment analysis techniques to the judicial data context. Specifically, we investigate whether the recidivism risk scores correlate with a binary sentiment assigned to the profile based on specific features – a novel approach aiming to gauge the sentiment towards the future potential of the individuals in the dataset."
      ],
      "metadata": {
        "id": "McG0_y54AnZh"
      }
    },
    {
      "cell_type": "code",
      "source": [
        "df = pd.read_csv('compas-scores-two-years.csv')"
      ],
      "metadata": {
        "id": "XkyvjsAmQJUv"
      },
      "execution_count": 5,
      "outputs": []
    },
    {
      "cell_type": "code",
      "source": [
        "feature_columns = ['age', 'juv_fel_count', 'decile_score', 'juv_misd_count', 'juv_other_count', 'priors_count']\n",
        "\n",
        "target_column = 'two_year_recid'\n",
        "\n",
        "sensitive_attribute = 'race'\n",
        "\n",
        "train_df, val_df = train_test_split(df, test_size=0.2, random_state=42)\n",
        "\n",
        "scaler = StandardScaler()\n",
        "X_train_scaled = scaler.fit_transform(train_df[feature_columns])\n",
        "X_val_scaled = scaler.transform(val_df[feature_columns])\n",
        "\n",
        "\n",
        "model = LogisticRegression()\n",
        "model.fit(X_train_scaled, train_df[target_column])\n",
        "\n",
        "predictions = model.predict(X_val_scaled)\n",
        "\n",
        "accuracy = accuracy_score(val_df[target_column], predictions)\n",
        "cm = confusion_matrix(val_df[target_column], predictions)\n",
        "report = classification_report(val_df[target_column], predictions)\n",
        "\n",
        "print(f\"Accuracy: {accuracy}\")\n",
        "print(cm)\n",
        "print(report)\n",
        "\n",
        "\n",
        "\n"
      ],
      "metadata": {
        "colab": {
          "base_uri": "https://localhost:8080/",
          "height": 0
        },
        "id": "gOz68wspRsyr",
        "outputId": "a96c52f5-6ba0-410c-a4d7-ec4b25006d06"
      },
      "execution_count": 6,
      "outputs": [
        {
          "output_type": "stream",
          "name": "stdout",
          "text": [
            "Accuracy: 0.6832986832986833\n",
            "[[627 196]\n",
            " [261 359]]\n",
            "              precision    recall  f1-score   support\n",
            "\n",
            "           0       0.71      0.76      0.73       823\n",
            "           1       0.65      0.58      0.61       620\n",
            "\n",
            "    accuracy                           0.68      1443\n",
            "   macro avg       0.68      0.67      0.67      1443\n",
            "weighted avg       0.68      0.68      0.68      1443\n",
            "\n"
          ]
        }
      ]
    },
    {
      "cell_type": "markdown",
      "source": [
        "#(2) Selection of Fairness Tool:\n",
        "\n",
        "##For fairness evaluation, we employ the AI Fairness 360 (AIF360) toolkit, an extensible open-source library that facilitates the examination and mitigation of unfairness in machine learning models. AIF360 offers a comprehensive set of fairness metrics and algorithms, which provides a standardized way to quantify bias. It is highly relevant to our task because it allows for the evaluation of model predictions across different demographic groups, ensuring that the sentiment analysis model does not perpetuate or exacerbate existing biases present in the judicial data."
      ],
      "metadata": {
        "id": "U4f-uUr3A-Db"
      }
    },
    {
      "cell_type": "code",
      "source": [
        "val_df['predictions'] = predictions\n",
        "\n",
        "\n",
        "val_df['sensitive_attribute_binarized'] = val_df[sensitive_attribute].apply(lambda x: 1 if x == 'African-American' else 0)\n",
        "\n",
        "# BinaryLabelDataset for AIF360 to use in fairness metric calculations\n",
        "bld_val = BinaryLabelDataset(df=val_df[['sensitive_attribute_binarized', target_column]],\n",
        "                             label_names=[target_column],\n",
        "                             protected_attribute_names=['sensitive_attribute_binarized'],\n",
        "                             favorable_label=1,\n",
        "                             unfavorable_label=0)\n",
        "\n",
        "bld_pred = bld_val.copy()\n",
        "bld_pred.labels = val_df['predictions'].values.reshape(-1,1).astype(float)\n",
        "\n",
        "# Fairness metrics\n",
        "metric = ClassificationMetric(bld_val,\n",
        "                              bld_pred,\n",
        "                              unprivileged_groups=[{'sensitive_attribute_binarized': 0}],\n",
        "                              privileged_groups=[{'sensitive_attribute_binarized': 1}])\n",
        "\n",
        "disparate_impact = metric.disparate_impact()\n",
        "theil_index = metric.theil_index()\n",
        "average_odds_difference = metric.average_odds_difference()\n",
        "equal_opportunity_difference = metric.equal_opportunity_difference()"
      ],
      "metadata": {
        "id": "28MHIgyJA8o8"
      },
      "execution_count": null,
      "outputs": []
    },
    {
      "cell_type": "markdown",
      "source": [
        "#(3) Fairness Metrics Successfully Calculated and Described:\n",
        "\n",
        "##Four fairness metrics were successfully calculated: Disparate Impact, Theil Index, Average Odds Difference, and Equal Opportunity Difference. Each of these metrics provides insights into different aspects of fairness in the model’s predictions.\n",
        "\n",
        "##Disparate Impact (0.4887677803012192): This metric compares the probability of a positive outcome for the unprivileged group to the privileged group. A value of 1 suggests perfect fairness. Values significantly below 1, such as 0.49 in our case, indicate less favorable outcomes for the unprivileged group, suggesting potential discrimination.\n",
        "\n",
        "##Theil Index (0.24327085667740658): The Theil Index is an entropy-based measure that quantifies inequality over a distribution of outcomes. A score of 0 represents perfect equality, whereas higher values indicate greater disparity. Our model's Theil Index of 0.24 denotes a moderate level of inequality in the model’s predictions with respect to the sensitive attribute.\n",
        "\n",
        "##Average Odds Difference (-0.2216590986787135): This metric measures the average difference in the model's false positive rate and true positive rate between unprivileged and privileged groups. A value of 0 would denote equal average odds, while our model scores -0.22, indicating a disparity where the unprivileged group is likely to experience less favorable outcomes.\n",
        "\n",
        "##Equal Opportunity Difference (-0.27284946236559143): Equal opportunity difference specifically considers the true positive rate, reflecting differences in the correct positive predictions between groups. Our model's value of -0.27 signifies that the unprivileged group has a substantially lower true positive rate compared to the privileged group, revealing a bias against the unprivileged group in the model’s predictions."
      ],
      "metadata": {
        "id": "eubrNSo8BF98"
      }
    },
    {
      "cell_type": "code",
      "source": [
        "RED = '\\033[91m'\n",
        "GREEN = '\\033[92m'\n",
        "YELLOW = '\\033[93m'\n",
        "ENDC = '\\033[0m'\n",
        "\n",
        "# Print your metrics in color\n",
        "print(f\"{RED}Disparate Impact: {disparate_impact}{ENDC}\")\n",
        "print(f\"{YELLOW}Theil Index: {theil_index}{ENDC}\")\n",
        "print(f\"{GREEN}Average Odds Difference: {average_odds_difference}{ENDC}\")\n",
        "print(f\"{YELLOW}Equal Opportunity Difference: {equal_opportunity_difference}{ENDC}\")"
      ],
      "metadata": {
        "colab": {
          "base_uri": "https://localhost:8080/",
          "height": 0
        },
        "id": "C8ML2T1e8eVU",
        "outputId": "db2fa3f6-e59d-4357-98e0-13cdd36a9b80"
      },
      "execution_count": 9,
      "outputs": [
        {
          "output_type": "stream",
          "name": "stdout",
          "text": [
            "\u001b[91mDisparate Impact: 0.4887677803012192\u001b[0m\n",
            "\u001b[93mTheil Index: 0.24327085667740658\u001b[0m\n",
            "\u001b[92mAverage Odds Difference: -0.2216590986787135\u001b[0m\n",
            "\u001b[93mEqual Opportunity Difference: -0.27284946236559143\u001b[0m\n"
          ]
        }
      ]
    },
    {
      "cell_type": "markdown",
      "source": [],
      "metadata": {
        "id": "ZjMqQ6WnOr17"
      }
    },
    {
      "cell_type": "code",
      "source": [
        "import seaborn as sns\n",
        "import matplotlib.pyplot as plt\n",
        "\n",
        "\n",
        "cm = confusion_matrix(val_df[target_column], predictions)\n",
        "plt.figure(figsize=(8, 6))\n",
        "sns.heatmap(cm, annot=True, fmt='d', cmap='Blues', xticklabels=['Not Recidivate', 'Recidivate'], yticklabels=['Not Recidivate', 'Recidivate'])\n",
        "plt.title('Confusion Matrix')\n",
        "plt.xlabel('Predicted Labels')\n",
        "plt.ylabel('True Labels')\n",
        "plt.show()\n"
      ],
      "metadata": {
        "colab": {
          "base_uri": "https://localhost:8080/",
          "height": 564
        },
        "id": "P643vzydUEK8",
        "outputId": "a8f54d53-b8c1-4d63-a207-443fc3ce2c6e"
      },
      "execution_count": 7,
      "outputs": [
        {
          "output_type": "display_data",
          "data": {
            "text/plain": [
              "<Figure size 800x600 with 2 Axes>"
            ],
            "image/png": "[encoded data removed]"
          },
          "metadata": {}
        }
      ]
    },
    {
      "cell_type": "code",
      "source": [],
      "metadata": {
        "id": "Y-2I-9fWYTQ9"
      },
      "execution_count": null,
      "outputs": []
    }
  ]
}
